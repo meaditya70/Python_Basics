{
 "cells": [
  {
   "cell_type": "markdown",
   "metadata": {},
   "source": [
    "## Some coding questions\n",
    "\n",
    "1. Find the sum of all elements in a list. <br><br>\n",
    "2. Find the smallest and the largest element in a list.<br><br>\n",
    "3. Find the index of the smallest and largest element in a list.<br><br>\n",
    "4. How to find and replace in strings?.<br><br>\n",
    "5. Reverse an integer.<br><br>\n",
    "6. Check if a string is palindrome. <br><br>\n",
    "7. Print Multiplication table of a given number.<br><br>\n",
    "8. Given two arrays, find which element of the first array is not present in the second array.<br><br>\n",
    "9. How will you convert a string to all lowercase and uppercase? <br><br>\n",
    "10. How to count letters/words in a string?<br><br>\n",
    "11. How do you find the first missing number and the first duplicate number,in a list which contains some numbers between 0 to 10?\n",
    "> a. When the list is unsorted?<br>\n",
    "> b. When the list is sorted? <br><br>\n",
    "12. Program to display all the prime numbers within a range. <br><br>\n",
    "13. Find the sum of the series 1 +11 + 111 + 1111 + .. n terms. <br><br>\n",
    "14. Factorial of a number using Iterations. <br><br>\n",
    "15. Fibonacci series upto n terms. <br><br>"
   ]
  },
  {
   "cell_type": "markdown",
   "metadata": {},
   "source": [
    "### 1. Find the sum of all elements in a list."
   ]
  },
  {
   "cell_type": "code",
   "execution_count": 1,
   "metadata": {},
   "outputs": [],
   "source": [
    "mylist=[1,4,2,5,7]"
   ]
  },
  {
   "cell_type": "code",
   "execution_count": 2,
   "metadata": {},
   "outputs": [
    {
     "name": "stdout",
     "output_type": "stream",
     "text": [
      "19\n"
     ]
    }
   ],
   "source": [
    "# method 1\n",
    "result=mylist[0]+mylist[1]\n",
    "for i in range(2,len(mylist)):\n",
    "    result=result+mylist[i]\n",
    "print(result)"
   ]
  },
  {
   "cell_type": "code",
   "execution_count": 3,
   "metadata": {},
   "outputs": [
    {
     "name": "stdout",
     "output_type": "stream",
     "text": [
      "19\n"
     ]
    }
   ],
   "source": [
    "# method 2\n",
    "result=0\n",
    "for i in range(len(mylist)):\n",
    "    result=result+mylist[i]\n",
    "print(result)"
   ]
  },
  {
   "cell_type": "code",
   "execution_count": 4,
   "metadata": {},
   "outputs": [
    {
     "data": {
      "text/plain": [
       "19"
      ]
     },
     "execution_count": 4,
     "metadata": {},
     "output_type": "execute_result"
    }
   ],
   "source": [
    "# easy peasy python trick\n",
    "result=sum(mylist)\n",
    "result"
   ]
  },
  {
   "cell_type": "markdown",
   "metadata": {},
   "source": [
    "### 2. Find the smallest and the largest element in a list."
   ]
  },
  {
   "cell_type": "code",
   "execution_count": 20,
   "metadata": {},
   "outputs": [],
   "source": [
    "mylist=[2,4,1,7,5]"
   ]
  },
  {
   "cell_type": "code",
   "execution_count": 21,
   "metadata": {},
   "outputs": [
    {
     "data": {
      "text/plain": [
       "[1, 2, 4, 5, 7]"
      ]
     },
     "execution_count": 21,
     "metadata": {},
     "output_type": "execute_result"
    }
   ],
   "source": [
    "mylist.sort()\n",
    "mylist"
   ]
  },
  {
   "cell_type": "code",
   "execution_count": 23,
   "metadata": {},
   "outputs": [
    {
     "name": "stdout",
     "output_type": "stream",
     "text": [
      "Smallest element: 1\n",
      "Largest element: 7\n"
     ]
    }
   ],
   "source": [
    "print(\"Smallest element:\",mylist[0])\n",
    "print(\"Largest element:\",mylist[-1]) # to get the last element of a list\n",
    "\n",
    "#### use mylist[-2] to get the second last element"
   ]
  },
  {
   "cell_type": "code",
   "execution_count": 24,
   "metadata": {},
   "outputs": [
    {
     "name": "stdout",
     "output_type": "stream",
     "text": [
      "Smallest element: 1\n",
      "Largest element: 7\n"
     ]
    }
   ],
   "source": [
    "# better way - python trick - use min and max functions\n",
    "mylist=[2,4,1,7,5]\n",
    "print(\"Smallest element:\",min(mylist))\n",
    "print(\"Largest element:\",max(mylist))"
   ]
  },
  {
   "cell_type": "markdown",
   "metadata": {},
   "source": [
    "### 3. Find the index of the smallest and largest element in a list."
   ]
  },
  {
   "cell_type": "code",
   "execution_count": 25,
   "metadata": {},
   "outputs": [
    {
     "data": {
      "text/plain": [
       "4"
      ]
     },
     "execution_count": 25,
     "metadata": {},
     "output_type": "execute_result"
    }
   ],
   "source": [
    "mylist=[2,4,1,7,5]\n",
    "mylist.index(5) # the index function returns the index of an element in a list"
   ]
  },
  {
   "cell_type": "code",
   "execution_count": 36,
   "metadata": {},
   "outputs": [
    {
     "name": "stdout",
     "output_type": "stream",
     "text": [
      "index of Smallest element: 2\n",
      "index of Largest element: 3\n"
     ]
    }
   ],
   "source": [
    "mylist=[2,4,1,7,5]\n",
    "print(\"index of Smallest element:\",mylist.index(min(mylist)))\n",
    "print(\"index of Largest element:\",mylist.index(max(mylist)))"
   ]
  },
  {
   "cell_type": "code",
   "execution_count": 27,
   "metadata": {},
   "outputs": [
    {
     "name": "stdout",
     "output_type": "stream",
     "text": [
      "index of Smallest element: 1\n",
      "index of Largest element: 0\n"
     ]
    }
   ],
   "source": [
    "mylist=[7,1,1,7,5] #incase of duplicate values it returns the first occurance\n",
    "print(\"index of Smallest element:\",mylist.index(min(mylist)))\n",
    "print(\"index of Largest element:\",mylist.index(max(mylist)))"
   ]
  },
  {
   "cell_type": "markdown",
   "metadata": {},
   "source": [
    "### 4. How to find and replace in strings?."
   ]
  },
  {
   "cell_type": "code",
   "execution_count": 28,
   "metadata": {},
   "outputs": [],
   "source": [
    "mystring=\"My name is Aditya\""
   ]
  },
  {
   "cell_type": "code",
   "execution_count": 29,
   "metadata": {},
   "outputs": [
    {
     "data": {
      "text/plain": [
       "8"
      ]
     },
     "execution_count": 29,
     "metadata": {},
     "output_type": "execute_result"
    }
   ],
   "source": [
    "mystring.find('is') # to find the position of a word/letter in a string"
   ]
  },
  {
   "cell_type": "code",
   "execution_count": 34,
   "metadata": {},
   "outputs": [],
   "source": [
    "\n",
    "####### ****** replace method in strings needs replication ******\n",
    "####### means you need to assign the replaced string back to the original string\n",
    "\n",
    "mystring=mystring.replace('name','game') #to replace the 1st parameter(name) with the 2nd parameter(game)\n",
    "mystring=mystring.replace('Aditya','golf') #to replace the 1st parameter(Aditya) with the 2nd parameter(golf)"
   ]
  },
  {
   "cell_type": "code",
   "execution_count": 35,
   "metadata": {},
   "outputs": [
    {
     "data": {
      "text/plain": [
       "'My game is golf'"
      ]
     },
     "execution_count": 35,
     "metadata": {},
     "output_type": "execute_result"
    }
   ],
   "source": [
    "mystring"
   ]
  },
  {
   "cell_type": "markdown",
   "metadata": {},
   "source": [
    "### 5. Reverse an integer."
   ]
  },
  {
   "cell_type": "code",
   "execution_count": 1,
   "metadata": {},
   "outputs": [],
   "source": [
    "num=1287"
   ]
  },
  {
   "cell_type": "code",
   "execution_count": 3,
   "metadata": {},
   "outputs": [
    {
     "data": {
      "text/plain": [
       "['1', '2', '8', '7']"
      ]
     },
     "execution_count": 3,
     "metadata": {},
     "output_type": "execute_result"
    }
   ],
   "source": [
    "numlist=list(str(num))\n",
    "numlist"
   ]
  },
  {
   "cell_type": "code",
   "execution_count": 5,
   "metadata": {},
   "outputs": [
    {
     "name": "stdout",
     "output_type": "stream",
     "text": [
      "7821\n"
     ]
    }
   ],
   "source": [
    "rev_num=0\n",
    "for i in range(len(numlist)):\n",
    "    rev_num=rev_num+(int(numlist[i])*(10**i))\n",
    "print(rev_num)"
   ]
  },
  {
   "cell_type": "code",
   "execution_count": 13,
   "metadata": {},
   "outputs": [
    {
     "name": "stdout",
     "output_type": "stream",
     "text": [
      "7821\n"
     ]
    }
   ],
   "source": [
    "num=1287\n",
    "length_num=len(str(num))\n",
    "rev_num=0\n",
    "for i in range(length_num):\n",
    "    remainder=num%10\n",
    "    rev_num=rev_num+(remainder*(10**(len(str(num))-1)))\n",
    "    num=num//10\n",
    "print(rev_num)"
   ]
  },
  {
   "cell_type": "markdown",
   "metadata": {},
   "source": [
    "### 6. Check if a string is palindrome."
   ]
  },
  {
   "cell_type": "code",
   "execution_count": 18,
   "metadata": {},
   "outputs": [
    {
     "name": "stdout",
     "output_type": "stream",
     "text": [
      "['e', 'y', 'e', 'r', 'e'] ['e', 'r', 'e', 'y', 'e']\n",
      "NO\n"
     ]
    }
   ],
   "source": [
    "mystr=\"eyere\"\n",
    "mystr=list(mystr)\n",
    "rev_str=[]\n",
    "for i in range(len(mystr)):\n",
    "    rev_str.append(mystr[len(mystr)-i-1])\n",
    "print(mystr,rev_str)\n",
    "flag=0\n",
    "for i in range(len(mystr)):\n",
    "    if(mystr[i]!=rev_str[i]):\n",
    "        print(\"NO\")\n",
    "        flag=1\n",
    "        break\n",
    "if(flag==0):\n",
    "    print(\"YES\")"
   ]
  },
  {
   "cell_type": "code",
   "execution_count": 20,
   "metadata": {},
   "outputs": [
    {
     "name": "stdout",
     "output_type": "stream",
     "text": [
      "YES\n"
     ]
    }
   ],
   "source": [
    "mystr=\"eyye\"\n",
    "mystr=list(mystr)\n",
    "flag=0\n",
    "for i in range(len(mystr)//2):\n",
    "    if(mystr[i]!=mystr[len(mystr)-1-i]):\n",
    "        print(\"NO\")\n",
    "        flag=1\n",
    "        break\n",
    "if(flag==0):\n",
    "    print(\"YES\")"
   ]
  },
  {
   "cell_type": "markdown",
   "metadata": {},
   "source": [
    "### 7. Print Multiplication table of a given number."
   ]
  },
  {
   "cell_type": "code",
   "execution_count": 21,
   "metadata": {},
   "outputs": [
    {
     "name": "stdout",
     "output_type": "stream",
     "text": [
      "Enter the number:2\n",
      "2 x 1 = 2\n",
      "2 x 2 = 4\n",
      "2 x 3 = 6\n",
      "2 x 4 = 8\n",
      "2 x 5 = 10\n",
      "2 x 6 = 12\n",
      "2 x 7 = 14\n",
      "2 x 8 = 16\n",
      "2 x 9 = 18\n",
      "2 x 10 = 20\n"
     ]
    }
   ],
   "source": [
    "num=int(input(\"Enter the number:\"))\n",
    "for i in range(1,11):\n",
    "    print(num,\"x\",i,\"=\",num*i)"
   ]
  },
  {
   "cell_type": "markdown",
   "metadata": {},
   "source": [
    "### 8. Given two arrays, find which element of the first array is not present in the second array.\n"
   ]
  },
  {
   "cell_type": "code",
   "execution_count": 22,
   "metadata": {},
   "outputs": [
    {
     "name": "stdout",
     "output_type": "stream",
     "text": [
      "5\n"
     ]
    }
   ],
   "source": [
    "arr1=[1,2,3,4,5]\n",
    "arr2=[2,4,3,0,1]\n",
    "for i in range(len(arr1)):\n",
    "    flag=0\n",
    "    for j in range(len(arr2)):\n",
    "        if(arr1[i]!=arr2[j]):\n",
    "            flag=1\n",
    "        else:\n",
    "            flag=0\n",
    "            break\n",
    "    if(flag==1):\n",
    "        print(arr1[i])\n",
    "            "
   ]
  },
  {
   "cell_type": "code",
   "execution_count": 23,
   "metadata": {},
   "outputs": [
    {
     "name": "stdout",
     "output_type": "stream",
     "text": [
      "5\n"
     ]
    }
   ],
   "source": [
    "arr1=[1,2,3,4,5]\n",
    "arr2=[2,4,3,0,1]\n",
    "for i in range(len(arr1)):\n",
    "    if arr1[i] not in arr2:\n",
    "        print(arr1[i])"
   ]
  },
  {
   "cell_type": "markdown",
   "metadata": {},
   "source": [
    "### 9. How will you convert a string to all lowercase and uppercase?"
   ]
  },
  {
   "cell_type": "code",
   "execution_count": 5,
   "metadata": {},
   "outputs": [
    {
     "name": "stdout",
     "output_type": "stream",
     "text": [
      "aditya\n",
      "ADITYA\n",
      "Aditya\n"
     ]
    }
   ],
   "source": [
    "mystring=\"AdiTYa\"\n",
    "lower_mystring=mystring.lower()\n",
    "upper_mystring=mystring.upper()\n",
    "cap_mystring=mystring.capitalize()\n",
    "print(lower_mystring)\n",
    "print(upper_mystring)\n",
    "print(cap_mystring)"
   ]
  },
  {
   "cell_type": "code",
   "execution_count": 10,
   "metadata": {},
   "outputs": [
    {
     "data": {
      "text/plain": [
       "{'apple', 'banana', 'cherry'}"
      ]
     },
     "execution_count": 10,
     "metadata": {},
     "output_type": "execute_result"
    }
   ],
   "source": [
    "mylist=['Apple','apple','banana','cherry','aPPle']\n",
    "for i in range(len(mylist)):\n",
    "    mylist[i]=mylist[i].lower()\n",
    "mylist=set(mylist)\n",
    "mylist"
   ]
  },
  {
   "cell_type": "markdown",
   "metadata": {},
   "source": [
    "### 10. How to count letters/words in a string?"
   ]
  },
  {
   "cell_type": "code",
   "execution_count": 16,
   "metadata": {},
   "outputs": [
    {
     "data": {
      "text/plain": [
       "2"
      ]
     },
     "execution_count": 16,
     "metadata": {},
     "output_type": "execute_result"
    }
   ],
   "source": [
    "mystring=\"This is what it is\"\n",
    "mystring=mystring.lower()\n",
    "mystring.count(' is')"
   ]
  },
  {
   "cell_type": "code",
   "execution_count": 19,
   "metadata": {},
   "outputs": [
    {
     "data": {
      "text/plain": [
       "3"
      ]
     },
     "execution_count": 19,
     "metadata": {},
     "output_type": "execute_result"
    }
   ],
   "source": [
    "mylist=['Apple','apple','banana','cherry','aPPle']\n",
    "for i in range(len(mylist)):\n",
    "    mylist[i]=mylist[i].lower()\n",
    "mylist.count('apple')"
   ]
  },
  {
   "cell_type": "markdown",
   "metadata": {},
   "source": [
    "### 11. How do you find the first missing number and the first duplicate number,in a list which contains some numbers between 0 to 10?"
   ]
  },
  {
   "cell_type": "markdown",
   "metadata": {},
   "source": [
    "##### a. When the list is sorted?"
   ]
  },
  {
   "cell_type": "code",
   "execution_count": 2,
   "metadata": {},
   "outputs": [
    {
     "name": "stdout",
     "output_type": "stream",
     "text": [
      "mylist= [0, 1, 2, 2, 4, 4]\n"
     ]
    }
   ],
   "source": [
    "mylist=[0,2,4,2,1,4]\n",
    "mylist.sort()\n",
    "print(\"mylist=\",mylist)"
   ]
  },
  {
   "cell_type": "code",
   "execution_count": 3,
   "metadata": {},
   "outputs": [
    {
     "name": "stdout",
     "output_type": "stream",
     "text": [
      "First Duplicate: 2\n",
      "[0, 1, 2, 4]\n",
      "First Missing: 3\n"
     ]
    }
   ],
   "source": [
    "for i in range(len(mylist)-1):\n",
    "    if(mylist[i]==mylist[i+1]):\n",
    "        print(\"First Duplicate:\",mylist[i])\n",
    "        break\n",
    "        \n",
    "mylist=list(set(mylist))\n",
    "print(mylist)\n",
    "flag=0\n",
    "j=0\n",
    "for i in range(len(mylist)):\n",
    "    if(mylist[i]!=j  and flag==0):\n",
    "        print(\"First Missing:\",j)\n",
    "        flag=1\n",
    "        break\n",
    "    j+=1\n",
    "if(j<=10 and flag==0):\n",
    "    print(\"First Missing:\",j)\n",
    "    \n"
   ]
  },
  {
   "cell_type": "code",
   "execution_count": 5,
   "metadata": {},
   "outputs": [
    {
     "name": "stdout",
     "output_type": "stream",
     "text": [
      "mylist: [0, 1, 2, 2, 4, 4]\n",
      "full_list: [0, 1, 2, 3, 4, 5, 6, 7, 8, 9, 10]\n"
     ]
    }
   ],
   "source": [
    "mylist=[0,2,4,2,1,4]\n",
    "mylist.sort()\n",
    "full_list=[]\n",
    "for i in range(11):\n",
    "    full_list.append(i)\n",
    "print(\"mylist:\",mylist)\n",
    "print(\"full_list:\",full_list)"
   ]
  },
  {
   "cell_type": "code",
   "execution_count": 6,
   "metadata": {},
   "outputs": [
    {
     "name": "stdout",
     "output_type": "stream",
     "text": [
      "{3, 5, 6, 7, 8, 9, 10}\n",
      "First Missing: 3\n"
     ]
    }
   ],
   "source": [
    "#set1.symmetric_difference(set2)\n",
    "result=set(full_list).difference(mylist)\n",
    "print(result)\n",
    "result=list(result)\n",
    "print(\"First Missing:\",result[0])"
   ]
  },
  {
   "cell_type": "markdown",
   "metadata": {},
   "source": [
    "##### b. When the list is unsorted and we are not allowed to sort the list?"
   ]
  },
  {
   "cell_type": "code",
   "execution_count": 73,
   "metadata": {},
   "outputs": [
    {
     "name": "stdout",
     "output_type": "stream",
     "text": [
      "mylist: [0, 2, 4, 2, 1, 4]\n",
      "full_list: [0, 1, 2, 3, 4, 5, 6, 7, 8, 9, 10]\n",
      "First Missing: 3\n"
     ]
    }
   ],
   "source": [
    "mylist=[0,2,4,2,1,4]\n",
    "full_list=[]\n",
    "for i in range(11):\n",
    "    full_list.append(i)\n",
    "print(\"mylist:\",mylist)\n",
    "print(\"full_list:\",full_list)\n",
    "result=set(full_list).difference(mylist)\n",
    "result=list(result)\n",
    "print(\"First Missing:\",result[0])"
   ]
  },
  {
   "cell_type": "code",
   "execution_count": 7,
   "metadata": {},
   "outputs": [
    {
     "name": "stdout",
     "output_type": "stream",
     "text": [
      "[0, 0, 0, 0, 0, 0, 0, 0, 0, 0, 0]\n",
      "mylist: [0, 2, 4, 2, 1, 4]\n",
      "full_list: [1, 1, 1, 0, 1, 0, 0, 0, 0, 0, 0]\n",
      "First Missing: 3\n"
     ]
    }
   ],
   "source": [
    "mylist=[0,2,4,2,1,4]\n",
    "full_list=[0]*11\n",
    "print(full_list)\n",
    "for i in range(len(mylist)):\n",
    "    full_list[mylist[i]]=1\n",
    "print(\"mylist:\",mylist)\n",
    "print(\"full_list:\",full_list)\n",
    "for i in range(len(full_list)):\n",
    "    if(full_list[i]==0):\n",
    "        print(\"First Missing:\",i)\n",
    "        break"
   ]
  },
  {
   "cell_type": "code",
   "execution_count": 75,
   "metadata": {},
   "outputs": [
    {
     "name": "stdout",
     "output_type": "stream",
     "text": [
      "mylist: [0, 2, 4, 2, 1, 4]\n",
      "myset: {0, 1, 2, 4}\n"
     ]
    }
   ],
   "source": [
    "mylist=[0,2,4,2,1,4]\n",
    "myset=set(mylist)\n",
    "print(\"mylist:\",mylist)\n",
    "print(\"myset:\",myset)"
   ]
  },
  {
   "cell_type": "code",
   "execution_count": 76,
   "metadata": {},
   "outputs": [
    {
     "name": "stdout",
     "output_type": "stream",
     "text": [
      "First Duplicate: 2\n"
     ]
    }
   ],
   "source": [
    "for value in myset:\n",
    "    count=mylist.count(value)\n",
    "    if(count>1):\n",
    "        print(\"First Duplicate:\",value)\n",
    "        break"
   ]
  },
  {
   "cell_type": "markdown",
   "metadata": {},
   "source": [
    "### 12. Program to display all the prime numbers within a range."
   ]
  },
  {
   "cell_type": "code",
   "execution_count": 2,
   "metadata": {},
   "outputs": [
    {
     "name": "stdout",
     "output_type": "stream",
     "text": [
      "Enter the range:-10 10\n",
      "2\n",
      "3\n",
      "5\n",
      "7\n"
     ]
    }
   ],
   "source": [
    "lower_Bound,upper_Bound=input(\"Enter the range:\").split()\n",
    "lower_Bound=int(lower_Bound)\n",
    "upper_Bound=int(upper_Bound)\n",
    "#print(lower_Bound,upper_Bound)\n",
    "\n",
    "for i in range(lower_Bound,upper_Bound+1):\n",
    "    if(i<=1):\n",
    "        continue\n",
    "    prime=True\n",
    "    for j in range(2,(i//2)+1):\n",
    "        if(i%j==0):\n",
    "            prime=False\n",
    "            break\n",
    "    if(prime==True):\n",
    "        print(i)"
   ]
  },
  {
   "cell_type": "markdown",
   "metadata": {},
   "source": [
    "### 13. Find the sum of the series 1 +11 + 111 + 1111 + .. upto n terms."
   ]
  },
  {
   "cell_type": "code",
   "execution_count": 9,
   "metadata": {},
   "outputs": [
    {
     "name": "stdout",
     "output_type": "stream",
     "text": [
      "Enter the value of n:3\n",
      "1\n",
      "11\n",
      "111\n",
      "123\n"
     ]
    }
   ],
   "source": [
    "n=input(\"Enter the value of n:\")\n",
    "n=int(n)\n",
    "result=0\n",
    "num=''\n",
    "for i in range(n):\n",
    "    num=num + '1'\n",
    "    print(num)\n",
    "    result=result+int(num)\n",
    "print(result)"
   ]
  },
  {
   "cell_type": "code",
   "execution_count": 11,
   "metadata": {},
   "outputs": [
    {
     "name": "stdout",
     "output_type": "stream",
     "text": [
      "Enter the value of n:3\n",
      "123\n"
     ]
    }
   ],
   "source": [
    "n=input(\"Enter the value of n:\")\n",
    "n=int(n)\n",
    "result=0\n",
    "for i in range(n):\n",
    "    num=0\n",
    "    for j in range(i+1):\n",
    "        num=num + (1*(10**j))\n",
    "    result=result+num\n",
    "print(result)"
   ]
  },
  {
   "cell_type": "markdown",
   "metadata": {},
   "source": [
    "### 14. Factorial of a number using Iterations."
   ]
  },
  {
   "cell_type": "code",
   "execution_count": 2,
   "metadata": {},
   "outputs": [
    {
     "name": "stdout",
     "output_type": "stream",
     "text": [
      "Enter the number:6\n",
      "720\n"
     ]
    }
   ],
   "source": [
    "#6=6*5*4*3*2*1\n",
    "num=int(input(\"Enter the number:\"))\n",
    "fact=1\n",
    "if(num>1):\n",
    "    for i in range(num,1,-1):\n",
    "        fact=fact*i\n",
    "print(fact)"
   ]
  },
  {
   "cell_type": "markdown",
   "metadata": {},
   "source": [
    "### 15. Fibonacci series upto n terms."
   ]
  },
  {
   "cell_type": "code",
   "execution_count": null,
   "metadata": {},
   "outputs": [],
   "source": [
    "#[0,1,1,2,3,5,8,....]"
   ]
  },
  {
   "cell_type": "code",
   "execution_count": 4,
   "metadata": {},
   "outputs": [
    {
     "name": "stdout",
     "output_type": "stream",
     "text": [
      "Enter the value of n:8\n",
      "[0, 1, 1, 2, 3, 5, 8, 13]\n"
     ]
    }
   ],
   "source": [
    "num=int(input(\"Enter the value of n:\"))\n",
    "fib=[0]*num\n",
    "fib[0]=0\n",
    "fib[1]=1\n",
    "for i in range(2,num):\n",
    "    fib[i]=fib[i-1]+fib[i-2]\n",
    "print(fib)"
   ]
  },
  {
   "cell_type": "code",
   "execution_count": null,
   "metadata": {},
   "outputs": [],
   "source": []
  }
 ],
 "metadata": {
  "kernelspec": {
   "display_name": "Python 3",
   "language": "python",
   "name": "python3"
  },
  "language_info": {
   "codemirror_mode": {
    "name": "ipython",
    "version": 3
   },
   "file_extension": ".py",
   "mimetype": "text/x-python",
   "name": "python",
   "nbconvert_exporter": "python",
   "pygments_lexer": "ipython3",
   "version": "3.8.3"
  }
 },
 "nbformat": 4,
 "nbformat_minor": 4
}
